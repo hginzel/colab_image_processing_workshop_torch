{
 "cells": [
  {
   "cell_type": "markdown",
   "metadata": {
    "colab_type": "text",
    "id": "N87uuNzJXh7C"
   },
   "source": [
    "# Setup of Colab Environment\n",
    "---\n"
   ]
  },
  {
   "cell_type": "markdown",
   "metadata": {
    "colab_type": "text",
    "id": "C3jqbs9Br1yT"
   },
   "source": [
    "Every Colab runs it's own instance on cloud. We need setup workshop enviroment in those steps:  \n",
    "* Setup GPU instance: Runtime ->  Change runtime type \n",
    "* Install workshop package with all requiremetns from git\n",
    "* Import all packages\n",
    "* Mount GDrive  "
   ]
  },
  {
   "cell_type": "code",
   "execution_count": null,
   "metadata": {
    "colab": {},
    "colab_type": "code",
    "id": "_3ClUAZZZtxm"
   },
   "outputs": [],
   "source": [
    "!pip install git+https://github.com/adamoz/colab_image_processing_workshop_torch.git"
   ]
  },
  {
   "cell_type": "code",
   "execution_count": null,
   "metadata": {
    "colab": {},
    "colab_type": "code",
    "id": "J7d2eq2PaAQR"
   },
   "outputs": [],
   "source": [
    "from google.colab import drive\n",
    "from google.colab import files\n",
    "from shutil import rmtree\n",
    "import os\n",
    "\n",
    "import numpy as np\n",
    "import torch\n",
    "from torch.optim import SGD\n",
    "from torch.nn import Linear, MSELoss, Tanh"
   ]
  },
  {
   "cell_type": "code",
   "execution_count": null,
   "metadata": {
    "colab": {},
    "colab_type": "code",
    "id": "zVh_U9jRaIBZ"
   },
   "outputs": [],
   "source": [
    "drive.mount('./drive', force_remount=True)"
   ]
  },
  {
   "cell_type": "code",
   "execution_count": null,
   "metadata": {
    "colab": {},
    "colab_type": "code",
    "id": "5qjcw-k7g-sD"
   },
   "outputs": [],
   "source": [
    "os.listdir('./drive/My Drive/ml_college_data')"
   ]
  },
  {
   "cell_type": "markdown",
   "metadata": {
    "colab_type": "text",
    "id": "gHziua43DUWP"
   },
   "source": [
    "# Introduction to PyTorch\n",
    "---"
   ]
  },
  {
   "cell_type": "markdown",
   "metadata": {
    "colab_type": "text",
    "id": "IyROgBNDsXkK"
   },
   "source": [
    "\n",
    "[PyTorch](https://pytorch.org/docs/stable/index.html) is a framework for building trainable (automatically differentiable) directed acyclic graphs in dynamic manner (in cotrast with e.g. Tensorflow which builds static dags).   \n",
    "\n",
    "PyTorch's main building block are tensors (and it's highlevel abstractions e.g. `torch.nn` layers) and operations upon those tensors. Using PyTorch we can define minimization problems, which can be solved using `torch` optimization modules.\n",
    "\n",
    "**Overvoew of PyTorch package**\n",
    " - `torch.nn`  Highl-level abstractions useful for designing neural network architectures including various neural network layer types, loss functions and containers for more complex models.\n",
    " - `torch.nn.functional`  Similar as torch.nn, not defined in class manner but functional.\n",
    " - `torch.nn.init` Set of methods used for initialization of torch Tensor.\n",
    " - `torch.optim` Module with various optimizers and learning rate schedulers for training of neural networks.\n",
    " - `torch.utils.data` Collection of classes for data manipulation.\n",
    " - `torch.autograd`  Reverse automatic differentiation system which enables automatical computation of the gradients using the chain rule."
   ]
  },
  {
   "cell_type": "markdown",
   "metadata": {
    "colab_type": "text",
    "id": "gZtgAdtqDUWZ"
   },
   "source": [
    "## PyTorch Tensors"
   ]
  },
  {
   "cell_type": "markdown",
   "metadata": {
    "colab_type": "text",
    "id": "bVX2i6RsDUWb"
   },
   "source": [
    "### Analogy with Numpy\n",
    "We can use similar methods as in NumPy to initialze and manipulate with tensors."
   ]
  },
  {
   "cell_type": "code",
   "execution_count": null,
   "metadata": {
    "colab": {},
    "colab_type": "code",
    "id": "BdcIeZS1DUWf"
   },
   "outputs": [],
   "source": [
    "np.zeros([3, 3])"
   ]
  },
  {
   "cell_type": "code",
   "execution_count": null,
   "metadata": {
    "colab": {},
    "colab_type": "code",
    "id": "1gfJDmSIDUWi"
   },
   "outputs": [],
   "source": [
    "torch.zeros([3, 3], dtype=torch.long, device=torch.device('cpu'))"
   ]
  },
  {
   "cell_type": "code",
   "execution_count": null,
   "metadata": {
    "colab": {},
    "colab_type": "code",
    "id": "jLlS2I-wDUWl"
   },
   "outputs": [],
   "source": [
    "np.random.rand(3, 3)"
   ]
  },
  {
   "cell_type": "code",
   "execution_count": null,
   "metadata": {
    "colab": {},
    "colab_type": "code",
    "id": "OaG15N9wDUWo"
   },
   "outputs": [],
   "source": [
    "torch.rand(3, 3)"
   ]
  },
  {
   "cell_type": "code",
   "execution_count": null,
   "metadata": {
    "colab": {},
    "colab_type": "code",
    "id": "xirqDkctDUWr"
   },
   "outputs": [],
   "source": [
    "numpy_tensor = np.array([[1, 2] ,[3, 4]], dtype=np.float)\n",
    "numpy_tensor"
   ]
  },
  {
   "cell_type": "code",
   "execution_count": null,
   "metadata": {
    "colab": {},
    "colab_type": "code",
    "id": "_xutZrXkDUWu"
   },
   "outputs": [],
   "source": [
    "torch_tensor = torch.tensor([[1, 2] ,[3, 4]], dtype=torch.float)\n",
    "torch_tensor"
   ]
  },
  {
   "cell_type": "code",
   "execution_count": null,
   "metadata": {
    "colab": {},
    "colab_type": "code",
    "id": "EIz7D7BtDUWx"
   },
   "outputs": [],
   "source": [
    "numpy_tensor.shape"
   ]
  },
  {
   "cell_type": "code",
   "execution_count": null,
   "metadata": {
    "colab": {},
    "colab_type": "code",
    "id": "9seDvTuYDUWz"
   },
   "outputs": [],
   "source": [
    "torch_tensor.shape"
   ]
  },
  {
   "cell_type": "code",
   "execution_count": null,
   "metadata": {
    "colab": {},
    "colab_type": "code",
    "id": "pLxfX9Q1DUW2"
   },
   "outputs": [],
   "source": [
    "torch_tensor.numpy()"
   ]
  },
  {
   "cell_type": "code",
   "execution_count": null,
   "metadata": {
    "colab": {},
    "colab_type": "code",
    "id": "gnuqSSmPDUW4"
   },
   "outputs": [],
   "source": [
    "torch.tensor(numpy_tensor)"
   ]
  },
  {
   "cell_type": "markdown",
   "metadata": {
    "colab_type": "text",
    "id": "-XI3OhNADUW7"
   },
   "source": [
    "### Basic operations with tensors"
   ]
  },
  {
   "cell_type": "code",
   "execution_count": null,
   "metadata": {
    "colab": {},
    "colab_type": "code",
    "id": "jqozYOweDUW8"
   },
   "outputs": [],
   "source": [
    "torch_tensor = torch.tensor([[1, 2] ,[3, 4]], dtype=torch.float)\n",
    "torch_tensor"
   ]
  },
  {
   "cell_type": "code",
   "execution_count": null,
   "metadata": {
    "colab": {},
    "colab_type": "code",
    "id": "EexfioZsDUW-"
   },
   "outputs": [],
   "source": [
    "torch_tensor + torch_tensor"
   ]
  },
  {
   "cell_type": "code",
   "execution_count": null,
   "metadata": {
    "colab": {},
    "colab_type": "code",
    "id": "RAPEJ-EjDUXB"
   },
   "outputs": [],
   "source": [
    "torch_tensor + 2"
   ]
  },
  {
   "cell_type": "code",
   "execution_count": null,
   "metadata": {
    "colab": {},
    "colab_type": "code",
    "id": "hKf5mzxJDUXE"
   },
   "outputs": [],
   "source": [
    "torch_tensor * torch_tensor"
   ]
  },
  {
   "cell_type": "code",
   "execution_count": null,
   "metadata": {
    "colab": {},
    "colab_type": "code",
    "id": "Amr3Gk4wDUXG"
   },
   "outputs": [],
   "source": [
    "torch_tensor.mm(torch_tensor)"
   ]
  },
  {
   "cell_type": "code",
   "execution_count": null,
   "metadata": {
    "colab": {},
    "colab_type": "code",
    "id": "5OJmRoP6DUXJ"
   },
   "outputs": [],
   "source": [
    "torch.nn.init.normal_(torch_tensor)\n",
    "torch_tensor"
   ]
  },
  {
   "cell_type": "markdown",
   "metadata": {
    "colab_type": "text",
    "id": "Eoo-sdIuDUXM"
   },
   "source": [
    "### Work with shape"
   ]
  },
  {
   "cell_type": "code",
   "execution_count": null,
   "metadata": {
    "colab": {},
    "colab_type": "code",
    "id": "DTpvJK75DUXN"
   },
   "outputs": [],
   "source": [
    "torch_tensor = torch.tensor([[1, 2] ,[3, 4]], dtype=torch.float)\n",
    "torch_tensor"
   ]
  },
  {
   "cell_type": "code",
   "execution_count": null,
   "metadata": {
    "colab": {},
    "colab_type": "code",
    "id": "aCFIEu2RDUXS"
   },
   "outputs": [],
   "source": [
    "torch_tensor.view(-1)"
   ]
  },
  {
   "cell_type": "code",
   "execution_count": null,
   "metadata": {
    "colab": {},
    "colab_type": "code",
    "id": "1c6rThcFDUXX"
   },
   "outputs": [],
   "source": [
    "torch_tensor[1, :]"
   ]
  },
  {
   "cell_type": "code",
   "execution_count": null,
   "metadata": {
    "colab": {},
    "colab_type": "code",
    "id": "ylHsNn85DUXZ"
   },
   "outputs": [],
   "source": [
    "torch.cat([torch_tensor, torch_tensor], dim=1)"
   ]
  },
  {
   "cell_type": "code",
   "execution_count": null,
   "metadata": {
    "colab": {},
    "colab_type": "code",
    "id": "Y8qAYD-IDUXb"
   },
   "outputs": [],
   "source": [
    "torch.unsqueeze(torch_tensor, 0)"
   ]
  },
  {
   "cell_type": "code",
   "execution_count": null,
   "metadata": {
    "colab": {},
    "colab_type": "code",
    "id": "-aXppE8ADUXe",
    "scrolled": true
   },
   "outputs": [],
   "source": [
    "torch.transpose(torch_tensor, 1, 0)"
   ]
  },
  {
   "cell_type": "markdown",
   "metadata": {
    "colab_type": "text",
    "id": "reNVK0QcDUXi"
   },
   "source": [
    "### Special tensor properties\n",
    "All those attributes are related to optimizations we can use over tensors.\n",
    "\n",
    " - `.requires_grad`  Indication that we want to compute gradinet for this tensor. Pytorch will start to track all operations on it.\n",
    " - `.grad` After calling `y.backward()`, we have in `x.grad` (in case it requires_grad) gradinet defined as $\\frac{dy}{dx}$.\n",
    " - `.grad_fn` Reference to function that has created the Tensor."
   ]
  },
  {
   "cell_type": "code",
   "execution_count": null,
   "metadata": {
    "colab": {},
    "colab_type": "code",
    "id": "_BzHcv6ADUXj"
   },
   "outputs": [],
   "source": [
    "x = torch.tensor([[5]], dtype=torch.float, requires_grad=True)\n",
    "x"
   ]
  },
  {
   "cell_type": "code",
   "execution_count": null,
   "metadata": {
    "colab": {},
    "colab_type": "code",
    "id": "ZWM9C-xiDUXl"
   },
   "outputs": [],
   "source": [
    "x_pow3 =  torch.pow(x, 3)\n",
    "x_pow3"
   ]
  },
  {
   "cell_type": "code",
   "execution_count": null,
   "metadata": {
    "colab": {},
    "colab_type": "code",
    "id": "wN6j4ioaDUXq"
   },
   "outputs": [],
   "source": [
    "x_pow3.grad_fn"
   ]
  },
  {
   "cell_type": "code",
   "execution_count": null,
   "metadata": {
    "colab": {},
    "colab_type": "code",
    "id": "mEog3hN1DUXs"
   },
   "outputs": [],
   "source": [
    "x_pow3.requires_grad"
   ]
  },
  {
   "cell_type": "code",
   "execution_count": null,
   "metadata": {
    "colab": {},
    "colab_type": "code",
    "id": "BFi9l1IXDUXu"
   },
   "outputs": [],
   "source": [
    "x_pow3.grad is None"
   ]
  },
  {
   "cell_type": "markdown",
   "metadata": {
    "colab_type": "text",
    "id": "TlzcespIDUXw"
   },
   "source": [
    "Let's compute gradinet of `x_pow3` variable with respect to all `torch.Tensor`s with `.require_grad=True`.\n",
    "To calculate the gradients, we need to run the `x_pow3.backward()`.  \n",
    "This will calculate the gradient for `x_po3` with respect to `x`\n",
    "\n",
    "$$\n",
    "\\frac{\\partial x^3}{\\partial x} = 3x^2\n",
    "$$"
   ]
  },
  {
   "cell_type": "code",
   "execution_count": null,
   "metadata": {
    "colab": {
     "base_uri": "https://localhost:8080/",
     "height": 35
    },
    "colab_type": "code",
    "id": "62ewQYV_DUXx",
    "outputId": "21373727-9658-4f0d-e658-ddf7ec8ba371"
   },
   "outputs": [
    {
     "data": {
      "text/plain": [
       "tensor([[75.]])"
      ]
     },
     "execution_count": 62,
     "metadata": {
      "tags": []
     },
     "output_type": "execute_result"
    }
   ],
   "source": [
    "x_pow3.backward()\n",
    "x.grad"
   ]
  },
  {
   "cell_type": "markdown",
   "metadata": {
    "colab_type": "text",
    "id": "ajXugWrdDUXz"
   },
   "source": [
    "This is way how to stop collecting gradinet information"
   ]
  },
  {
   "cell_type": "code",
   "execution_count": null,
   "metadata": {
    "colab": {
     "base_uri": "https://localhost:8080/",
     "height": 35
    },
    "colab_type": "code",
    "id": "MV6quIdQDUXz",
    "outputId": "d2be5e6d-da4c-4cfb-e1c0-1ae7135bf887"
   },
   "outputs": [
    {
     "name": "stdout",
     "output_type": "stream",
     "text": [
      "False\n"
     ]
    }
   ],
   "source": [
    "with torch.no_grad():\n",
    "    print((x * x).requires_grad)"
   ]
  },
  {
   "cell_type": "markdown",
   "metadata": {
    "colab_type": "text",
    "id": "pidLZWwFDUX2"
   },
   "source": [
    "## Neural Network Definition\n",
    "PyTorch enables definition of neural networks with several level of abstraction. Let's explore them.."
   ]
  },
  {
   "cell_type": "markdown",
   "metadata": {
    "colab_type": "text",
    "id": "p5byVoq3DUX3"
   },
   "source": [
    "### Data"
   ]
  },
  {
   "cell_type": "code",
   "execution_count": null,
   "metadata": {
    "colab": {},
    "colab_type": "code",
    "id": "QhCjnDs0DUX3"
   },
   "outputs": [],
   "source": [
    "input_batch = torch.tensor([[0.20, 0.15],\n",
    "                            [0.30, 0.20],\n",
    "                            [0.86, 0.99],\n",
    "                            [0.91, 0.88]])\n",
    "\n",
    "label_batch = torch.tensor([[1.],\n",
    "                            [1.],\n",
    "                            [-1.],\n",
    "                            [-1.]])"
   ]
  },
  {
   "cell_type": "markdown",
   "metadata": {
    "colab_type": "text",
    "id": "uLLB-HalDUX5"
   },
   "source": [
    "### Low level approach\n",
    "Using just `torch.Tensor` and `torch.autograd`."
   ]
  },
  {
   "cell_type": "code",
   "execution_count": null,
   "metadata": {
    "colab": {},
    "colab_type": "code",
    "id": "nY2Uky2uDUX6"
   },
   "outputs": [],
   "source": [
    "learning_rate = 1e-3\n",
    "training_iterations = 55000"
   ]
  },
  {
   "cell_type": "code",
   "execution_count": null,
   "metadata": {
    "colab": {},
    "colab_type": "code",
    "id": "HvnOINNsDUX8"
   },
   "outputs": [],
   "source": [
    "# Define trainable parameters.\n",
    "w1 = torch.randn(2, 1, dtype=torch.float, requires_grad=True, device=torch.device(\"cpu\"))\n",
    "w2 = torch.randn(1, 1, dtype=torch.float, requires_grad=True, device=torch.device(\"cpu\"))\n",
    "w1, w2"
   ]
  },
  {
   "cell_type": "code",
   "execution_count": null,
   "metadata": {
    "colab": {},
    "colab_type": "code",
    "id": "wtigtWv9duKZ"
   },
   "outputs": [],
   "source": [
    "##############\n",
    "# Playground #\n",
    "##############\n",
    "\n",
    "\n"
   ]
  },
  {
   "cell_type": "code",
   "execution_count": null,
   "metadata": {
    "colab": {},
    "colab_type": "code",
    "id": "Ew8XOf5qDUX-"
   },
   "outputs": [],
   "source": [
    "# After each iteration, we adjust w1 and w2 parameters.\n",
    "for training_iteration in range(training_iterations):\n",
    "    # Here is actual forward pass through simple nn with 2 layers defines by w1 and w2.\n",
    "    prediction = input_batch.mm(w1)\n",
    "    prediction = torch.tanh(prediction)\n",
    "    prediction = prediction.mm(w2)\n",
    "    prediction = torch.tanh(prediction)\n",
    "    \n",
    "    # We can calculate err as mean square error, we need to get single scalar number for optimizer.\n",
    "    loss = (prediction - label_batch).pow(2).mean()\n",
    "    if training_iteration % 5000 == 0:\n",
    "        print(training_iteration, loss.item())\n",
    "\n",
    "    # Here we compute all the gradients of variables\n",
    "    loss.backward()\n",
    "    \n",
    "    # We don't want to collect gradient information for optimization steps.\n",
    "    with torch.no_grad():\n",
    "        w1 -= learning_rate * w1.grad\n",
    "        w2 -= learning_rate * w2.grad\n",
    "        # Clear gradients for next interation, we don't want to cummulate it.\n",
    "        w1.grad.zero_()\n",
    "        w2.grad.zero_()"
   ]
  },
  {
   "cell_type": "code",
   "execution_count": null,
   "metadata": {
    "colab": {},
    "colab_type": "code",
    "id": "IhsWt3D2DUYA"
   },
   "outputs": [],
   "source": [
    "# Check predictions.\n",
    "prediction = input_batch.mm(w1)\n",
    "prediction = torch.tanh(prediction)\n",
    "prediction = prediction.mm(w2)\n",
    "prediction = torch.tanh(prediction)\n",
    "prediction"
   ]
  },
  {
   "cell_type": "code",
   "execution_count": null,
   "metadata": {
    "colab": {},
    "colab_type": "code",
    "id": "Hwy7qVRBDUYC"
   },
   "outputs": [],
   "source": [
    "torch.save({'w1': w1, 'w2': w2}, './drive/My Drive/ml_college_data/models/ckpt.pth')"
   ]
  },
  {
   "cell_type": "code",
   "execution_count": null,
   "metadata": {
    "colab": {},
    "colab_type": "code",
    "id": "Jn0wE23uDUYD"
   },
   "outputs": [],
   "source": [
    "state_dict = torch.load('./drive/My Drive/ml_college_data/models/ckpt.pth')\n",
    "w1.data = state_dict['w1']\n",
    "w2.data = state_dict['w2']"
   ]
  },
  {
   "cell_type": "markdown",
   "metadata": {
    "colab_type": "text",
    "id": "lc_zD9uYDUYS"
   },
   "source": [
    "### Container approach with torch.nn and  torch.optim"
   ]
  },
  {
   "cell_type": "code",
   "execution_count": null,
   "metadata": {
    "colab": {},
    "colab_type": "code",
    "id": "CoEts2EnDUYV"
   },
   "outputs": [],
   "source": [
    "learning_rate = 1e-3\n",
    "training_iterations = 55000"
   ]
  },
  {
   "cell_type": "code",
   "execution_count": null,
   "metadata": {
    "colab": {},
    "colab_type": "code",
    "id": "iUFbW8t6DUYX"
   },
   "outputs": [],
   "source": [
    "class SimpleNN(torch.nn.Module):\n",
    "    def __init__(self):\n",
    "        super(SimpleNN, self).__init__()\n",
    "        self.layer_1 = Linear(2, 1)\n",
    "        self.layer_2 = Linear(1, 1)\n",
    "        \n",
    "    def forward(self, input_batch):\n",
    "        prediction = self.layer_1(input_batch)\n",
    "        prediction = torch.tanh(prediction)\n",
    "        prediction = self.layer_2(prediction)\n",
    "        prediction = torch.tanh(prediction)\n",
    "        return prediction\n",
    "\n",
    "simple_nn = SimpleNN()"
   ]
  },
  {
   "cell_type": "code",
   "execution_count": null,
   "metadata": {
    "colab": {},
    "colab_type": "code",
    "id": "hUwxRY7WDUYZ"
   },
   "outputs": [],
   "source": [
    "list(simple_nn.named_parameters())"
   ]
  },
  {
   "cell_type": "code",
   "execution_count": null,
   "metadata": {
    "colab": {},
    "colab_type": "code",
    "id": "-sgE9eLHDUYb"
   },
   "outputs": [],
   "source": [
    "loss_fce = MSELoss(reduction='sum')"
   ]
  },
  {
   "cell_type": "code",
   "execution_count": null,
   "metadata": {
    "colab": {},
    "colab_type": "code",
    "id": "blxJi9ezDUYd"
   },
   "outputs": [],
   "source": [
    "optimizer = SGD(simple_nn.parameters(), lr=learning_rate, momentum=0.9)\n",
    "optimizer"
   ]
  },
  {
   "cell_type": "code",
   "execution_count": null,
   "metadata": {
    "colab": {},
    "colab_type": "code",
    "id": "L9ixdWJ7DUYi"
   },
   "outputs": [],
   "source": [
    "for training_iteration in range(training_iterations):\n",
    "    prediction = simple_nn(input_batch)\n",
    "    \n",
    "    loss = loss_fce(prediction, label_batch)\n",
    "    if training_iteration % 5000 == 0:\n",
    "        print(training_iteration, loss.item())\n",
    "\n",
    "    optimizer.zero_grad()\n",
    "    loss.backward()\n",
    "    optimizer.step()"
   ]
  },
  {
   "cell_type": "code",
   "execution_count": null,
   "metadata": {
    "colab": {},
    "colab_type": "code",
    "id": "1T9vkVuXDUYk"
   },
   "outputs": [],
   "source": [
    "simple_nn(input_batch)"
   ]
  },
  {
   "cell_type": "code",
   "execution_count": null,
   "metadata": {
    "colab": {},
    "colab_type": "code",
    "id": "moSYyw4_DUYl"
   },
   "outputs": [],
   "source": [
    "simple_nn.load_state_dict(simple_nn.state_dict())"
   ]
  },
  {
   "cell_type": "markdown",
   "metadata": {
    "colab_type": "text",
    "id": "kQCQYhvMDUYo"
   },
   "source": [
    "### Container approach with torch.nn.Sequential"
   ]
  },
  {
   "cell_type": "code",
   "execution_count": null,
   "metadata": {
    "colab": {},
    "colab_type": "code",
    "id": "e5I1-4WwDUYo"
   },
   "outputs": [],
   "source": [
    "learning_rate = 1e-3\n",
    "training_iterations = 55000"
   ]
  },
  {
   "cell_type": "code",
   "execution_count": null,
   "metadata": {
    "colab": {},
    "colab_type": "code",
    "id": "W0xGxXE9DUYq"
   },
   "outputs": [],
   "source": [
    "simple_nn_seq = torch.nn.Sequential(\n",
    "    Linear(2, 1),\n",
    "    Tanh(),\n",
    "    Linear(1, 1),\n",
    "    Tanh()\n",
    ")"
   ]
  },
  {
   "cell_type": "code",
   "execution_count": null,
   "metadata": {
    "colab": {},
    "colab_type": "code",
    "id": "5ug4Yd3ODUYr"
   },
   "outputs": [],
   "source": [
    "loss_fce = MSELoss(reduction='sum')\n",
    "optimizer = SGD(simple_nn_seq.parameters(), lr=learning_rate, momentum=0.9)"
   ]
  },
  {
   "cell_type": "code",
   "execution_count": null,
   "metadata": {
    "colab": {},
    "colab_type": "code",
    "id": "tM5ZL9PuDUYx"
   },
   "outputs": [],
   "source": [
    "for training_iteration in range(training_iterations):\n",
    "    prediction = simple_nn_seq(input_batch)\n",
    "    \n",
    "    loss = loss_fce(prediction, label_batch)\n",
    "    if training_iteration % 5000 == 0:\n",
    "        print(training_iteration, loss.item())\n",
    "\n",
    "    optimizer.zero_grad()\n",
    "    loss.backward()\n",
    "    optimizer.step()"
   ]
  },
  {
   "cell_type": "code",
   "execution_count": null,
   "metadata": {
    "colab": {},
    "colab_type": "code",
    "id": "TugZv4NXDUY1"
   },
   "outputs": [],
   "source": [
    "simple_nn_seq(input_batch)"
   ]
  }
 ],
 "metadata": {
  "accelerator": "GPU",
  "colab": {
   "collapsed_sections": [
    "N87uuNzJXh7C",
    "gHziua43DUWP",
    "gZtgAdtqDUWZ",
    "bVX2i6RsDUWb",
    "-XI3OhNADUW7",
    "Eoo-sdIuDUXM",
    "reNVK0QcDUXi",
    "pidLZWwFDUX2",
    "p5byVoq3DUX3",
    "uLLB-HalDUX5",
    "lc_zD9uYDUYS",
    "kQCQYhvMDUYo"
   ],
   "name": "1_introduction_to_pytorch.ipynb",
   "provenance": []
  },
  "kernelspec": {
   "display_name": "Python 3",
   "language": "python",
   "name": "python3"
  },
  "language_info": {
   "codemirror_mode": {
    "name": "ipython",
    "version": 3
   },
   "file_extension": ".py",
   "mimetype": "text/x-python",
   "name": "python",
   "nbconvert_exporter": "python",
   "pygments_lexer": "ipython3",
   "version": "3.6.9"
  }
 },
 "nbformat": 4,
 "nbformat_minor": 4
}
